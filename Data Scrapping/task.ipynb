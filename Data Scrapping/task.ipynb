{
 "cells": [
  {
   "cell_type": "code",
   "execution_count": null,
   "metadata": {},
   "outputs": [],
   "source": [
    "import requests\n",
    "import matplotlib\n",
    "import pandas as pd\n",
    "import numpy as np\n",
    "import matplotlib.pyplot as plt\n",
    "import seaborn as sns\n",
    "import matplotlib.pyplot as plt\n",
    "from pandas import read_excel\n",
    "from selenium import webdriver \n",
    "from selenium.webdriver.common.by import By \n",
    "from selenium.webdriver.support.ui import WebDriverWait \n",
    "from selenium.webdriver.support import expected_conditions as EC\n",
    "chromedriver = \"C:/Users/Kernius/Desktop/BoredPanda/chromedriver\""
   ]
  },
  {
   "cell_type": "code",
   "execution_count": null,
   "metadata": {},
   "outputs": [],
   "source": [
    "A = pd.read_excel(\"C:\\\\Users\\\\Kernius\\\\Desktop\\\\Bored\\\\Table_A.xlsx\", Header = 1)\n",
    "B = pd.read_excel(\"C:\\\\Users\\\\Kernius\\\\Desktop\\\\Bored\\\\Table_B.xlsx\", Header = 1)"
   ]
  },
  {
   "cell_type": "code",
   "execution_count": null,
   "metadata": {},
   "outputs": [],
   "source": [
    "AB = A.merge(B, how = 'inner', left_on = 'video_id', right_on = 'video_id')"
   ]
  },
  {
   "cell_type": "code",
   "execution_count": null,
   "metadata": {},
   "outputs": [],
   "source": [
    "print(len(A) - len(AB), \"rows in A, but not in B table\")\n",
    "print(len(AB), \"rows shared by A and B tables\")"
   ]
  },
  {
   "cell_type": "code",
   "execution_count": null,
   "metadata": {},
   "outputs": [],
   "source": [
    "data = pd.concat([A, B]).drop_duplicates()\n",
    "data['published_at'] = pd.to_datetime(data['published_at']).dt.date"
   ]
  },
  {
   "cell_type": "code",
   "execution_count": null,
   "metadata": {},
   "outputs": [],
   "source": [
    "print(len(data), \"rows in joined A and B tables without duplicates\")"
   ]
  },
  {
   "cell_type": "code",
   "execution_count": null,
   "metadata": {},
   "outputs": [],
   "source": [
    "print(\"In\", data['video_id'].groupby(data['published_at']).count().idxmax(),\"was published\" , data['video_id'].groupby(data['published_at']).count().max(), \"videos\")"
   ]
  },
  {
   "cell_type": "code",
   "execution_count": null,
   "metadata": {},
   "outputs": [],
   "source": [
    "data[\"Size\"] = np.where(data['views']<1000000, 'small', 'big')"
   ]
  },
  {
   "cell_type": "code",
   "execution_count": null,
   "metadata": {},
   "outputs": [],
   "source": [
    "A = pd.read_excel(\"C:\\\\Users\\\\Kernius\\\\Desktop\\\\Bored\\\\Table_A.xlsx\", Header = 1).dropna()\n",
    "B = pd.read_excel(\"C:\\\\Users\\\\Kernius\\\\Desktop\\\\Bored\\\\Table_B.xlsx\", Header = 1).dropna()\n",
    "data = pd.concat([A, B]).drop_duplicates()\n",
    "data.reset_index(drop=True, inplace=True)  ## Reikėjo resetint indexą, nes kažkoks bugas buvo, kad peršoko 12 indexo reikšmę (ilgai užtrukau kol atradau šitą nesąmonę)\n",
    "data[\"Size\"] = np.where(data['views']<1000000, 'small', 'big')"
   ]
  },
  {
   "cell_type": "code",
   "execution_count": null,
   "metadata": {},
   "outputs": [],
   "source": [
    "link = []\n",
    "for i in range(len(data)):\n",
    "    \n",
    "    link.append(\"https://www.youtube.com/watch?v=\" + data['video_id'][i])\n",
    "## pasidarom link'ų list'ą"
   ]
  },
  {
   "cell_type": "code",
   "execution_count": null,
   "metadata": {},
   "outputs": [],
   "source": [
    "new_views = pd.DataFrame(columns = ['video_id', 'n_views'])\n",
    "driver = webdriver.Chrome(chromedriver) ## būtinai turi būt įjungta, kad veiktų tolimesnis kodas"
   ]
  },
  {
   "cell_type": "code",
   "execution_count": null,
   "metadata": {},
   "outputs": [],
   "source": [
    "wait = WebDriverWait(driver, 10)\n",
    "\n",
    "for x in link:\n",
    "            r = requests.get(x)\n",
    "            if \"Video unavailable\" in r.text or \"nepasiekiamas\" in r.text or \"private video\" in r.text or \"if you've been granted access to this video\" in r.text or \"privatus\" in r.text:\n",
    "                continue\n",
    "            else:\n",
    "                driver.get(x)\n",
    "                id = x.strip('https://www.youtube.com/watch?v=')\n",
    "                n_views =  wait.until(EC.presence_of_element_located(\n",
    "                                             (By.CSS_SELECTOR,\"div#count yt-view-count-renderer\"))).text\n",
    "                new_views.loc[len(new_views)] = [id, n_views]"
   ]
  },
  {
   "cell_type": "code",
   "execution_count": null,
   "metadata": {},
   "outputs": [],
   "source": [
    "new_views['n_views'] = new_views['n_views'].str.rstrip('views')\n",
    "for i in range(len(new_views)):\n",
    "    new_views['n_views'][i] = int(new_views['n_views'].str.rstrip('views')[i].replace(',' , ''))\n",
    "    \n",
    "## konvertuojam peržiūras į integer"
   ]
  },
  {
   "cell_type": "code",
   "execution_count": null,
   "metadata": {},
   "outputs": [],
   "source": [
    "print(\"Video with max views is this: \",data['video_id'][new_views['n_views'].astype(str).astype(int).idxmax()] , \"with\", new_views['n_views'].max(), \"views\")"
   ]
  },
  {
   "cell_type": "code",
   "execution_count": null,
   "metadata": {},
   "outputs": [],
   "source": [
    "print(\"Previous video with max views was this:\", data['video_id'][data['views'].idxmax()], \"with\", data['views'].max(), \"views\")\n"
   ]
  },
  {
   "cell_type": "code",
   "execution_count": null,
   "metadata": {},
   "outputs": [],
   "source": [
    "new_data = data.merge(new_views, how = 'inner', left_on = 'video_id', right_on = 'video_id')\n"
   ]
  },
  {
   "cell_type": "code",
   "execution_count": null,
   "metadata": {},
   "outputs": [],
   "source": [
    "new_data.to_csv(\"TableAB_bonus.csv\")"
   ]
  },
  {
   "cell_type": "code",
   "execution_count": null,
   "metadata": {},
   "outputs": [],
   "source": [
    "C = pd.read_excel(\"C:\\\\Users\\\\Kernius\\\\Desktop\\\\Bored\\\\TableAB_bonus.xlsx\", Header = 1)\n"
   ]
  },
  {
   "cell_type": "code",
   "execution_count": null,
   "metadata": {},
   "outputs": [],
   "source": [
    "bins = ([0, 500000, 1000000, 2000000, 3000000,4000000])\n",
    "plt.hist([C['views'], C['n_views']], bins,label=['Old views', 'New views'])\n",
    "\n",
    "plt.title('Old and new views histogram')\n",
    "plt.legend(loc='upper right')\n",
    "plt.ticklabel_format(style='plain')\n",
    "plt.xticks(rotation='vertical')"
   ]
  },
  {
   "cell_type": "code",
   "execution_count": null,
   "metadata": {},
   "outputs": [],
   "source": [
    "print(\"Didžioji dalis video turi peržiūrų iki 500 000\")"
   ]
  }
 ],
 "metadata": {
  "kernelspec": {
   "display_name": "Python 3",
   "language": "python",
   "name": "python3"
  },
  "language_info": {
   "codemirror_mode": {
    "name": "ipython",
    "version": 3
   },
   "file_extension": ".py",
   "mimetype": "text/x-python",
   "name": "python",
   "nbconvert_exporter": "python",
   "pygments_lexer": "ipython3",
   "version": "3.7.4"
  }
 },
 "nbformat": 4,
 "nbformat_minor": 2
}

