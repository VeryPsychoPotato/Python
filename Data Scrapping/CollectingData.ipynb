Skip to content
Search or jump to…
Pull requests
Issues
Marketplace
Explore
 
@VeryPsychoPotato 
VeryPsychoPotato
/
Data-scrapping
Public
Code
Issues
Pull requests
Actions
Projects
Wiki
Security
Insights
Settings
Data-scrapping
/
CollectingData.ipynb
in
main
 

Spaces

1

No wrap
1
{
2
 "cells": [
3
  {
4
   "cell_type": "code",
5
   "execution_count": 1,
6
   "metadata": {},
7
   "outputs": [],
8
   "source": [
9
    "from selenium import webdriver \n",
10
    "from datetime import datetime\n",
11
    "import pandas as pd \n",
12
    "import requests\n",
13
    "from bs4 import BeautifulSoup\n",
14
    "from selenium.webdriver.common.by import By \n",
15
    "from selenium.webdriver.support.ui import WebDriverWait \n",
16
    "from selenium.webdriver.support import expected_conditions as EC"
17
   ]
18
  },
19
  {
20
   "cell_type": "code",
21
   "execution_count": null,
22
   "metadata": {},
23
   "outputs": [],
24
   "source": [
25
    "chromedriver = \"C:/Users/Kernius/Desktop/BoredPanda/chromedriver\"\n",
26
    "driver = webdriver.Chrome(chromedriver) \n",
27
    "driver.get(\"https://www.youtube.com/c/Pralau%C5%BEkVien%C4%85%C5%A0alt%C4%85/videos\")"
28
   ]
29
  },
30
  {
31
   "cell_type": "code",
32
   "execution_count": null,
33
   "metadata": {},
34
   "outputs": [],
35
   "source": [
36
    "user_data = driver.find_elements_by_xpath('//*[@id=\"video-title\"]')\n",
37
    "links = []\n",
38
    "for i in user_data:\n",
39
    "            links.append(i.get_attribute('href'))"
40
   ]
41
  },
42
  {
43
   "cell_type": "code",
44
   "execution_count": null,
45
   "metadata": {},
46
   "outputs": [],
47
   "source": [
48
    "wait = WebDriverWait(driver, 10)\n",
49
    "for x in links:\n",
50
    "            driver.get(x)\n",
51
    "            id = x.strip('https://www.youtube.com/watch?v=')\n",
52
    "            \n",
53
    "            title = wait.until(EC.presence_of_element_located(\n",
54
    "                           (By.CSS_SELECTOR,\"h1.title yt-formatted-string\"))).text\n",
55
    "            \n",
56
    "            views =  wait.until(EC.presence_of_element_located(\n",
57
    "                                         (By.CSS_SELECTOR,\"div#count yt-view-count-renderer\"))).text\n",
58
    "            keywords = 0\n",
59
    "            date = wait.until(EC.presence_of_element_located(\n",
60
    "                                         (By.CSS_SELECTOR,\"div#date yt-formatted-string\"))).text\n",
61
    "            data.loc[len(data)] = [id, title, views ,keywords, date]\n",
62
    "driver.close()"
63
   ]
64
  },
65
  {
66
   "cell_type": "code",
67
   "execution_count": null,
68
   "metadata": {},
69
   "outputs": [],
@VeryPsychoPotato
Commit changes
Commit summary
Create CollectingData.ipynb
Optional extended description
Add an optional extended description…
 Commit directly to the main branch.
 Create a new branch for this commit and start a pull request. Learn more about pull requests.
 
Footer
© 2022 GitHub, Inc.
Footer navigation
Terms
Privacy
Security
Status
Docs
Contact GitHub
Pricing
API
Training
Blog
About
You have no unread notifications
